{
  "cells": [
    {
      "cell_type": "markdown",
      "source": [
        "**O notebook abaixo tem por objetivo treinar uma rede neural para aprender a verificar sinais indicativos com o dedo para efetuar comandos em um sistema de automação residencial**\n",
        "\n",
        "Serão treinadas duas redes: \n",
        "Uma simples, utilizando-se a classe Sequencial do keras para instanciar uma rede com 3 camadas convolucionais (além das camadas de pooling e flatten);\n",
        "Outra utilizando-se do conceito de transferência de conhecimento utilizando-se a rede mobilenet."
      ],
      "metadata": {
        "id": "vagRNvzXwJ5Y"
      }
    },
    {
      "cell_type": "code",
      "source": [
        "import numpy as np\n",
        "import pandas as pd\n",
        "import tensorflow as tf\n",
        "from skimage import io, transform\n",
        "import cv2\n",
        "import glob\n",
        "from tensorflow.keras.models import Sequential\n",
        "from tensorflow.keras.layers import Dense, Conv2D, MaxPool2D, Dropout, Flatten\n",
        "from sklearn.model_selection import train_test_split\n",
        "from sklearn.preprocessing import LabelEncoder\n",
        "print(\"Loaded...\")\n",
        "import zipfile\n",
        "import os\n",
        "from matplotlib import pyplot as plt\n",
        "from sklearn.preprocessing import MinMaxScaler"
      ],
      "metadata": {
        "id": "rAWpcC8KwGKE",
        "colab": {
          "base_uri": "https://localhost:8080/"
        },
        "outputId": "5f31f025-fef5-41a3-b027-8cd7d89fafd5"
      },
      "execution_count": null,
      "outputs": [
        {
          "output_type": "stream",
          "name": "stdout",
          "text": [
            "Loaded...\n"
          ]
        }
      ]
    },
    {
      "cell_type": "code",
      "source": [
        "from google.colab import drive\n",
        "drive.mount('/content/drive')"
      ],
      "metadata": {
        "colab": {
          "base_uri": "https://localhost:8080/"
        },
        "id": "JSVNsZPFBAdV",
        "outputId": "e72dd77f-f6ca-4f17-c5a6-986acf469ae8"
      },
      "execution_count": null,
      "outputs": [
        {
          "output_type": "stream",
          "name": "stdout",
          "text": [
            "Drive already mounted at /content/drive; to attempt to forcibly remount, call drive.mount(\"/content/drive\", force_remount=True).\n"
          ]
        }
      ]
    },
    {
      "cell_type": "code",
      "source": [
        "dataset_path = \"drive/MyDrive/Colab2/Datasets/fingers/\"\n",
        "zip_object = zipfile.ZipFile(file=dataset_path+\"fingers.zip\", mode=\"r\")\n",
        "zip_object.extractall()\n",
        "zip_object.close()"
      ],
      "metadata": {
        "id": "kGzuVhYkQZNK",
        "colab": {
          "base_uri": "https://localhost:8080/",
          "height": 378
        },
        "outputId": "70433375-ac93-4275-9a43-c613757442ee"
      },
      "execution_count": null,
      "outputs": [
        {
          "output_type": "error",
          "ename": "KeyboardInterrupt",
          "evalue": "ignored",
          "traceback": [
            "\u001b[0;31m---------------------------------------------------------------------------\u001b[0m",
            "\u001b[0;31mKeyboardInterrupt\u001b[0m                         Traceback (most recent call last)",
            "\u001b[0;32m<ipython-input-5-b11025136724>\u001b[0m in \u001b[0;36m<module>\u001b[0;34m()\u001b[0m\n\u001b[1;32m      1\u001b[0m \u001b[0mdataset_path\u001b[0m \u001b[0;34m=\u001b[0m \u001b[0;34m\"drive/MyDrive/Colab2/Datasets/fingers/\"\u001b[0m\u001b[0;34m\u001b[0m\u001b[0;34m\u001b[0m\u001b[0m\n\u001b[1;32m      2\u001b[0m \u001b[0mzip_object\u001b[0m \u001b[0;34m=\u001b[0m \u001b[0mzipfile\u001b[0m\u001b[0;34m.\u001b[0m\u001b[0mZipFile\u001b[0m\u001b[0;34m(\u001b[0m\u001b[0mfile\u001b[0m\u001b[0;34m=\u001b[0m\u001b[0mdataset_path\u001b[0m\u001b[0;34m+\u001b[0m\u001b[0;34m\"fingers.zip\"\u001b[0m\u001b[0;34m,\u001b[0m \u001b[0mmode\u001b[0m\u001b[0;34m=\u001b[0m\u001b[0;34m\"r\"\u001b[0m\u001b[0;34m)\u001b[0m\u001b[0;34m\u001b[0m\u001b[0;34m\u001b[0m\u001b[0m\n\u001b[0;32m----> 3\u001b[0;31m \u001b[0mzip_object\u001b[0m\u001b[0;34m.\u001b[0m\u001b[0mextractall\u001b[0m\u001b[0;34m(\u001b[0m\u001b[0;34m)\u001b[0m\u001b[0;34m\u001b[0m\u001b[0;34m\u001b[0m\u001b[0m\n\u001b[0m\u001b[1;32m      4\u001b[0m \u001b[0mzip_object\u001b[0m\u001b[0;34m.\u001b[0m\u001b[0mclose\u001b[0m\u001b[0;34m(\u001b[0m\u001b[0;34m)\u001b[0m\u001b[0;34m\u001b[0m\u001b[0;34m\u001b[0m\u001b[0m\n",
            "\u001b[0;32m/usr/lib/python3.7/zipfile.py\u001b[0m in \u001b[0;36mextractall\u001b[0;34m(self, path, members, pwd)\u001b[0m\n\u001b[1;32m   1634\u001b[0m \u001b[0;34m\u001b[0m\u001b[0m\n\u001b[1;32m   1635\u001b[0m         \u001b[0;32mfor\u001b[0m \u001b[0mzipinfo\u001b[0m \u001b[0;32min\u001b[0m \u001b[0mmembers\u001b[0m\u001b[0;34m:\u001b[0m\u001b[0;34m\u001b[0m\u001b[0;34m\u001b[0m\u001b[0m\n\u001b[0;32m-> 1636\u001b[0;31m             \u001b[0mself\u001b[0m\u001b[0;34m.\u001b[0m\u001b[0m_extract_member\u001b[0m\u001b[0;34m(\u001b[0m\u001b[0mzipinfo\u001b[0m\u001b[0;34m,\u001b[0m \u001b[0mpath\u001b[0m\u001b[0;34m,\u001b[0m \u001b[0mpwd\u001b[0m\u001b[0;34m)\u001b[0m\u001b[0;34m\u001b[0m\u001b[0;34m\u001b[0m\u001b[0m\n\u001b[0m\u001b[1;32m   1637\u001b[0m \u001b[0;34m\u001b[0m\u001b[0m\n\u001b[1;32m   1638\u001b[0m     \u001b[0;34m@\u001b[0m\u001b[0mclassmethod\u001b[0m\u001b[0;34m\u001b[0m\u001b[0;34m\u001b[0m\u001b[0m\n",
            "\u001b[0;32m/usr/lib/python3.7/zipfile.py\u001b[0m in \u001b[0;36m_extract_member\u001b[0;34m(self, member, targetpath, pwd)\u001b[0m\n\u001b[1;32m   1687\u001b[0m             \u001b[0;32mreturn\u001b[0m \u001b[0mtargetpath\u001b[0m\u001b[0;34m\u001b[0m\u001b[0;34m\u001b[0m\u001b[0m\n\u001b[1;32m   1688\u001b[0m \u001b[0;34m\u001b[0m\u001b[0m\n\u001b[0;32m-> 1689\u001b[0;31m         \u001b[0;32mwith\u001b[0m \u001b[0mself\u001b[0m\u001b[0;34m.\u001b[0m\u001b[0mopen\u001b[0m\u001b[0;34m(\u001b[0m\u001b[0mmember\u001b[0m\u001b[0;34m,\u001b[0m \u001b[0mpwd\u001b[0m\u001b[0;34m=\u001b[0m\u001b[0mpwd\u001b[0m\u001b[0;34m)\u001b[0m \u001b[0;32mas\u001b[0m \u001b[0msource\u001b[0m\u001b[0;34m,\u001b[0m\u001b[0;31m \u001b[0m\u001b[0;31m\\\u001b[0m\u001b[0;34m\u001b[0m\u001b[0;34m\u001b[0m\u001b[0m\n\u001b[0m\u001b[1;32m   1690\u001b[0m              \u001b[0mopen\u001b[0m\u001b[0;34m(\u001b[0m\u001b[0mtargetpath\u001b[0m\u001b[0;34m,\u001b[0m \u001b[0;34m\"wb\"\u001b[0m\u001b[0;34m)\u001b[0m \u001b[0;32mas\u001b[0m \u001b[0mtarget\u001b[0m\u001b[0;34m:\u001b[0m\u001b[0;34m\u001b[0m\u001b[0;34m\u001b[0m\u001b[0m\n\u001b[1;32m   1691\u001b[0m             \u001b[0mshutil\u001b[0m\u001b[0;34m.\u001b[0m\u001b[0mcopyfileobj\u001b[0m\u001b[0;34m(\u001b[0m\u001b[0msource\u001b[0m\u001b[0;34m,\u001b[0m \u001b[0mtarget\u001b[0m\u001b[0;34m)\u001b[0m\u001b[0;34m\u001b[0m\u001b[0;34m\u001b[0m\u001b[0m\n",
            "\u001b[0;32m/usr/lib/python3.7/zipfile.py\u001b[0m in \u001b[0;36mopen\u001b[0;34m(self, name, mode, pwd, force_zip64)\u001b[0m\n\u001b[1;32m   1514\u001b[0m         \u001b[0mself\u001b[0m\u001b[0;34m.\u001b[0m\u001b[0m_fileRefCnt\u001b[0m \u001b[0;34m+=\u001b[0m \u001b[0;36m1\u001b[0m\u001b[0;34m\u001b[0m\u001b[0;34m\u001b[0m\u001b[0m\n\u001b[1;32m   1515\u001b[0m         zef_file = _SharedFile(self.fp, zinfo.header_offset,\n\u001b[0;32m-> 1516\u001b[0;31m                                self._fpclose, self._lock, lambda: self._writing)\n\u001b[0m\u001b[1;32m   1517\u001b[0m         \u001b[0;32mtry\u001b[0m\u001b[0;34m:\u001b[0m\u001b[0;34m\u001b[0m\u001b[0;34m\u001b[0m\u001b[0m\n\u001b[1;32m   1518\u001b[0m             \u001b[0;31m# Skip the file header:\u001b[0m\u001b[0;34m\u001b[0m\u001b[0;34m\u001b[0m\u001b[0;34m\u001b[0m\u001b[0m\n",
            "\u001b[0;32m/usr/lib/python3.7/zipfile.py\u001b[0m in \u001b[0;36m__init__\u001b[0;34m(self, file, pos, close, lock, writing)\u001b[0m\n\u001b[1;32m    726\u001b[0m \u001b[0;34m\u001b[0m\u001b[0m\n\u001b[1;32m    727\u001b[0m \u001b[0;32mclass\u001b[0m \u001b[0m_SharedFile\u001b[0m\u001b[0;34m:\u001b[0m\u001b[0;34m\u001b[0m\u001b[0;34m\u001b[0m\u001b[0m\n\u001b[0;32m--> 728\u001b[0;31m     \u001b[0;32mdef\u001b[0m \u001b[0m__init__\u001b[0m\u001b[0;34m(\u001b[0m\u001b[0mself\u001b[0m\u001b[0;34m,\u001b[0m \u001b[0mfile\u001b[0m\u001b[0;34m,\u001b[0m \u001b[0mpos\u001b[0m\u001b[0;34m,\u001b[0m \u001b[0mclose\u001b[0m\u001b[0;34m,\u001b[0m \u001b[0mlock\u001b[0m\u001b[0;34m,\u001b[0m \u001b[0mwriting\u001b[0m\u001b[0;34m)\u001b[0m\u001b[0;34m:\u001b[0m\u001b[0;34m\u001b[0m\u001b[0;34m\u001b[0m\u001b[0m\n\u001b[0m\u001b[1;32m    729\u001b[0m         \u001b[0mself\u001b[0m\u001b[0;34m.\u001b[0m\u001b[0m_file\u001b[0m \u001b[0;34m=\u001b[0m \u001b[0mfile\u001b[0m\u001b[0;34m\u001b[0m\u001b[0;34m\u001b[0m\u001b[0m\n\u001b[1;32m    730\u001b[0m         \u001b[0mself\u001b[0m\u001b[0;34m.\u001b[0m\u001b[0m_pos\u001b[0m \u001b[0;34m=\u001b[0m \u001b[0mpos\u001b[0m\u001b[0;34m\u001b[0m\u001b[0;34m\u001b[0m\u001b[0m\n",
            "\u001b[0;31mKeyboardInterrupt\u001b[0m: "
          ]
        }
      ]
    },
    {
      "cell_type": "code",
      "source": [
        "dir_train = os.listdir(\"./fingers/train\")\n",
        "dir_test = os.listdir(\"./fingers/test\")\n"
      ],
      "metadata": {
        "id": "YkJ_-kfp83tS"
      },
      "execution_count": null,
      "outputs": []
    },
    {
      "cell_type": "code",
      "source": [
        "count = 0 \n",
        "teste = []\n",
        "for file in dir_train:\n",
        "  if count == 6:\n",
        "    break\n",
        "  print('./fingers/train/' + file)\n",
        "  count += 1\n",
        "  img = io.imread('./fingers/train/' + file)               \n",
        "  # teste.append(transform.resize(img, (128,128), mode = 'constant'))\n",
        "  teste.append(img)\n"
      ],
      "metadata": {
        "colab": {
          "base_uri": "https://localhost:8080/"
        },
        "id": "3xHs-4G896oJ",
        "outputId": "a158f865-7587-4df2-82d8-b8ad3f55369d"
      },
      "execution_count": null,
      "outputs": [
        {
          "output_type": "stream",
          "name": "stdout",
          "text": [
            "./fingers/train/3e7a6131-0ee3-4c15-9295-0a917f67a08c_3R.png\n",
            "./fingers/train/6b96a7bf-64ec-411a-ae24-39d46e605011_4R.png\n",
            "./fingers/train/2cd9a779-e19c-4caa-902a-cb9b2bc26d9d_1R.png\n",
            "./fingers/train/1cb2c32b-5438-4803-aff2-01625ee32fd8_3L.png\n",
            "./fingers/train/3dbff53a-1397-4723-934b-d5586a02d3e5_5L.png\n",
            "./fingers/train/1f3e787f-c44c-4105-95c7-384e612c4ac3_3L.png\n"
          ]
        }
      ]
    },
    {
      "metadata": {
        "_cell_guid": "79c7e3d0-c299-4dcb-8224-4455121ee9b0",
        "_uuid": "d629ff2d2480ee46fbb7e2d37f6b5fab8052498a",
        "trusted": true,
        "id": "KYn_S4kyu1KA"
      },
      "cell_type": "code",
      "source": [
        "train_data = []\n",
        "test_data = []\n",
        "train_label = []\n",
        "test_label = []\n",
        "\n",
        "for img in dir_train:\n",
        "    img_read = io.imread('./fingers/train/' + img)\n",
        "    # img_read = transform.resize(img_read, (128,128), mode = 'constant')\n",
        "    img_read = transform.resize(img_read, (128,128), mode = 'constant')\n",
        "    train_data.append(img_read)\n",
        "    train_label.append(img[-6:-4])\n",
        "\n",
        "for img in dir_test:\n",
        "    img_read = io.imread('./fingers/test/' + img)\n",
        "    img_read = transform.resize(img_read, (128,128), mode = 'constant')\n",
        "    test_data.append(img_read)\n",
        "    test_label.append(img[-6:-4])\n",
        "\n",
        "\n",
        "    "
      ],
      "execution_count": null,
      "outputs": []
    },
    {
      "cell_type": "code",
      "source": [
        "test_label[0:5]"
      ],
      "metadata": {
        "colab": {
          "base_uri": "https://localhost:8080/"
        },
        "id": "akrThbr38i9M",
        "outputId": "9bf7f52f-ae52-4630-99bb-053f592f3ae5"
      },
      "execution_count": null,
      "outputs": [
        {
          "output_type": "execute_result",
          "data": {
            "text/plain": [
              "['5R', '1R', '5L', '2L', '3L']"
            ]
          },
          "metadata": {},
          "execution_count": 8
        }
      ]
    },
    {
      "cell_type": "code",
      "source": [
        "labelencoder = LabelEncoder()\n",
        "train_label = labelencoder.fit_transform(train_label)\n",
        "test_label = labelencoder.transform(test_label)    "
      ],
      "metadata": {
        "id": "y1Drr_Wa7zLV"
      },
      "execution_count": null,
      "outputs": []
    },
    {
      "cell_type": "code",
      "source": [
        "labelencoder.inverse_transform(test_label[0:5])"
      ],
      "metadata": {
        "colab": {
          "base_uri": "https://localhost:8080/"
        },
        "id": "o1SX8ouCIPrk",
        "outputId": "6611ac2c-b1cf-4dc2-9e17-7af8cad7b75e"
      },
      "execution_count": null,
      "outputs": [
        {
          "output_type": "execute_result",
          "data": {
            "text/plain": [
              "array(['5R', '1R', '5L', '2L', '3L'], dtype='<U2')"
            ]
          },
          "metadata": {},
          "execution_count": 24
        }
      ]
    },
    {
      "cell_type": "code",
      "source": [
        "train_data[0].shape"
      ],
      "metadata": {
        "colab": {
          "base_uri": "https://localhost:8080/"
        },
        "id": "AuEf7PURHpQJ",
        "outputId": "d5261ada-dc5b-46de-ccdc-3c11e56a4ca4"
      },
      "execution_count": null,
      "outputs": [
        {
          "output_type": "execute_result",
          "data": {
            "text/plain": [
              "(128, 128)"
            ]
          },
          "metadata": {},
          "execution_count": 54
        }
      ]
    },
    {
      "cell_type": "code",
      "source": [
        "labelencoder.classes_"
      ],
      "metadata": {
        "colab": {
          "base_uri": "https://localhost:8080/"
        },
        "id": "ECL1bU1Byg67",
        "outputId": "5d4ae24b-2313-42e8-afe0-7ad94c01049d"
      },
      "execution_count": null,
      "outputs": [
        {
          "output_type": "execute_result",
          "data": {
            "text/plain": [
              "array(['0L', '0R', '1L', '1R', '2L', '2R', '3L', '3R', '4L', '4R', '5L',\n",
              "       '5R'], dtype='<U2')"
            ]
          },
          "metadata": {},
          "execution_count": 11
        }
      ]
    },
    {
      "cell_type": "code",
      "source": [
        "xtrain, xtest, ytrain, ytest = np.array(train_data), np.array(test_data), np.array(train_label), np.array(test_label)"
      ],
      "metadata": {
        "id": "4YJghBPD7-Fk"
      },
      "execution_count": null,
      "outputs": []
    },
    {
      "cell_type": "code",
      "source": [
        "xtrain.shape"
      ],
      "metadata": {
        "colab": {
          "base_uri": "https://localhost:8080/"
        },
        "id": "D2uQH9V8Y8Mt",
        "outputId": "81136264-d1da-4b9b-8836-db8667f67fac"
      },
      "execution_count": null,
      "outputs": [
        {
          "output_type": "execute_result",
          "data": {
            "text/plain": [
              "(18000, 128, 128)"
            ]
          },
          "metadata": {},
          "execution_count": 13
        }
      ]
    },
    {
      "cell_type": "code",
      "source": [
        "xtest.shape"
      ],
      "metadata": {
        "colab": {
          "base_uri": "https://localhost:8080/"
        },
        "id": "NhF5tZLl9NXI",
        "outputId": "9ae8165e-21ec-4a09-de73-4f2c0c24085d"
      },
      "execution_count": null,
      "outputs": [
        {
          "output_type": "execute_result",
          "data": {
            "text/plain": [
              "(3600, 128, 128)"
            ]
          },
          "metadata": {},
          "execution_count": 14
        }
      ]
    },
    {
      "cell_type": "code",
      "source": [
        "ytest[10]"
      ],
      "metadata": {
        "colab": {
          "base_uri": "https://localhost:8080/"
        },
        "id": "4ZH1J3nmMv8V",
        "outputId": "038f2568-90cc-4cc4-e871-11d65249ab32"
      },
      "execution_count": null,
      "outputs": [
        {
          "output_type": "execute_result",
          "data": {
            "text/plain": [
              "5"
            ]
          },
          "metadata": {},
          "execution_count": 15
        }
      ]
    },
    {
      "cell_type": "code",
      "source": [
        "xtrain = xtrain.reshape(xtrain.shape[0], 128, 128, 1)\n",
        "xtest = xtest.reshape(xtest.shape[0], 128, 128, 1)"
      ],
      "metadata": {
        "id": "dPEObqslNpIc"
      },
      "execution_count": null,
      "outputs": []
    },
    {
      "cell_type": "code",
      "source": [
        "# ytrain = ytrain.reshape(ytrain.shape[0], 1)\n",
        "# ytest = ytest.reshape(ytest.shape[0], 1)"
      ],
      "metadata": {
        "id": "l7vtJawKXmDM"
      },
      "execution_count": null,
      "outputs": []
    },
    {
      "cell_type": "code",
      "source": [
        "ytrain[12]"
      ],
      "metadata": {
        "colab": {
          "base_uri": "https://localhost:8080/",
          "height": 35
        },
        "id": "N19xgXVmadzE",
        "outputId": "23b79188-f2b7-4a8e-c768-5cab05ceb522"
      },
      "execution_count": null,
      "outputs": [
        {
          "output_type": "execute_result",
          "data": {
            "text/plain": [
              "'4L'"
            ],
            "application/vnd.google.colaboratory.intrinsic+json": {
              "type": "string"
            }
          },
          "metadata": {},
          "execution_count": 20
        }
      ]
    },
    {
      "cell_type": "code",
      "source": [
        "ytrain = tf.keras.utils.to_categorical(ytrain, num_classes = 12)\n",
        "ytest = tf.keras.utils.to_categorical(ytest, num_classes = 12)"
      ],
      "metadata": {
        "id": "BiOD2Q6FYP3z"
      },
      "execution_count": null,
      "outputs": []
    },
    {
      "cell_type": "code",
      "source": [
        "ytrain[7]"
      ],
      "metadata": {
        "colab": {
          "base_uri": "https://localhost:8080/"
        },
        "id": "eCsA-e-xYgZV",
        "outputId": "01577a95-0841-4ad8-b98a-b029e6a7d4dc"
      },
      "execution_count": null,
      "outputs": [
        {
          "output_type": "execute_result",
          "data": {
            "text/plain": [
              "array([0., 0., 0., 0., 1., 0., 0., 0., 0., 0., 0., 0.], dtype=float32)"
            ]
          },
          "metadata": {},
          "execution_count": 31
        }
      ]
    },
    {
      "metadata": {
        "trusted": true,
        "_uuid": "42a5769704a74eed1f1fed7465ee84f7649b8266",
        "id": "uvVc7ktXu1KB",
        "colab": {
          "base_uri": "https://localhost:8080/"
        },
        "outputId": "8aafebbc-ecf2-4e4b-a1e8-8594ed912bc7"
      },
      "cell_type": "code",
      "source": [
        "print(xtrain.shape, xtest.shape, ytrain.shape, ytest.shape)"
      ],
      "execution_count": null,
      "outputs": [
        {
          "output_type": "stream",
          "name": "stdout",
          "text": [
            "(18000, 128, 128, 1) (3600, 128, 128, 1) (18000, 12) (3600, 12)\n"
          ]
        }
      ]
    },
    {
      "cell_type": "code",
      "source": [
        "xtrain = xtrain / 255\n",
        "xtest = xtest / 255\n",
        "# xtest = normalizador2.fit_transform(xtest)\n",
        "# ytest = normalizador1.transform(ytest)\n"
      ],
      "metadata": {
        "id": "7rIwXFWQzuUf"
      },
      "execution_count": null,
      "outputs": []
    },
    {
      "cell_type": "code",
      "source": [
        "normalizador1 = MinMaxScaler()\n",
        "normalizador2 = MinMaxScaler()\n",
        "ytrain = normalizador1.fit_transform(ytrain)\n",
        "ytest = normalizador2.fit_transform(ytest)"
      ],
      "metadata": {
        "id": "YyPWMXhEXYIl"
      },
      "execution_count": null,
      "outputs": []
    },
    {
      "metadata": {
        "trusted": true,
        "_uuid": "740b20fad619488d8f45f2260e149085be905310",
        "id": "RwWNTaenu1KC"
      },
      "cell_type": "code",
      "source": [
        "x_train, x_val, y_train, y_val = train_test_split(xtrain, ytrain, test_size = 0.20, random_state = 5, shuffle = True)\n",
        "# x_train_val, x_test_val, y_train_val, y_test_val = train_test_split(x_train, y_train, test_size = 0.20, random_state = 7, shuffle = True)"
      ],
      "execution_count": null,
      "outputs": []
    },
    {
      "cell_type": "code",
      "source": [
        "normalizador1.inverse_transform(y_train)[45]"
      ],
      "metadata": {
        "id": "FSC3rJBJR5vj",
        "colab": {
          "base_uri": "https://localhost:8080/"
        },
        "outputId": "8eb7bfce-bf2b-41f8-e55e-e2b5f0ed87bf"
      },
      "execution_count": null,
      "outputs": [
        {
          "output_type": "execute_result",
          "data": {
            "text/plain": [
              "array([1.])"
            ]
          },
          "metadata": {},
          "execution_count": 69
        }
      ]
    },
    {
      "cell_type": "code",
      "source": [
        "x_train.shape"
      ],
      "metadata": {
        "id": "DTxydEsSR8Sx",
        "colab": {
          "base_uri": "https://localhost:8080/"
        },
        "outputId": "2b162adf-3d2e-46cb-a9f1-620c0cbda2fb"
      },
      "execution_count": null,
      "outputs": [
        {
          "output_type": "execute_result",
          "data": {
            "text/plain": [
              "(14400, 128, 128, 1)"
            ]
          },
          "metadata": {},
          "execution_count": 46
        }
      ]
    },
    {
      "metadata": {
        "trusted": true,
        "_uuid": "b52db890a962892c5dad3f87690cab01f69101f6",
        "id": "gfiCCE4ru1KC",
        "colab": {
          "base_uri": "https://localhost:8080/"
        },
        "outputId": "3bd25e8d-0aa3-4668-9d5e-2f0d8c25e9fd"
      },
      "cell_type": "code",
      "source": [
        "model = Sequential()\n",
        "model.add(Conv2D(32, (3,3), padding='same', input_shape = (128, 128, 1), activation = 'relu'))\n",
        "model.add(Conv2D(32, (3,3), activation = 'relu'))\n",
        "\n",
        "model.add(MaxPool2D((2,2)))\n",
        "\n",
        "model.add(Conv2D(64, (3,3), padding='same', activation = 'relu'))\n",
        "model.add(Conv2D(64, (3,3), padding='same', activation = 'relu'))\n",
        "\n",
        "model.add(MaxPool2D((2,2)))\n",
        "\n",
        "model.add(Conv2D(128, (3,3), padding='same', activation = 'relu'))\n",
        "model.add(Conv2D(128, (3,3), padding='same', activation = 'relu'))\n",
        "model.add(Flatten())\n",
        "\n",
        "model.add(Dropout(0.40))\n",
        "model.add(Dense(256, activation = 'relu'))\n",
        "model.add(Dropout(0.40))\n",
        "model.add(Dense(12, activation = 'softmax'))\n",
        "\n",
        "model.summary()"
      ],
      "execution_count": null,
      "outputs": [
        {
          "output_type": "stream",
          "name": "stdout",
          "text": [
            "Model: \"sequential\"\n",
            "_________________________________________________________________\n",
            " Layer (type)                Output Shape              Param #   \n",
            "=================================================================\n",
            " conv2d (Conv2D)             (None, 128, 128, 32)      320       \n",
            "                                                                 \n",
            " conv2d_1 (Conv2D)           (None, 126, 126, 32)      9248      \n",
            "                                                                 \n",
            " max_pooling2d (MaxPooling2D  (None, 63, 63, 32)       0         \n",
            " )                                                               \n",
            "                                                                 \n",
            " conv2d_2 (Conv2D)           (None, 63, 63, 64)        18496     \n",
            "                                                                 \n",
            " conv2d_3 (Conv2D)           (None, 63, 63, 64)        36928     \n",
            "                                                                 \n",
            " max_pooling2d_1 (MaxPooling  (None, 31, 31, 64)       0         \n",
            " 2D)                                                             \n",
            "                                                                 \n",
            " conv2d_4 (Conv2D)           (None, 31, 31, 128)       73856     \n",
            "                                                                 \n",
            " conv2d_5 (Conv2D)           (None, 31, 31, 128)       147584    \n",
            "                                                                 \n",
            " flatten (Flatten)           (None, 123008)            0         \n",
            "                                                                 \n",
            " dropout (Dropout)           (None, 123008)            0         \n",
            "                                                                 \n",
            " dense (Dense)               (None, 256)               31490304  \n",
            "                                                                 \n",
            " dropout_1 (Dropout)         (None, 256)               0         \n",
            "                                                                 \n",
            " dense_1 (Dense)             (None, 12)                3084      \n",
            "                                                                 \n",
            "=================================================================\n",
            "Total params: 31,779,820\n",
            "Trainable params: 31,779,820\n",
            "Non-trainable params: 0\n",
            "_________________________________________________________________\n"
          ]
        }
      ]
    },
    {
      "metadata": {
        "trusted": true,
        "_uuid": "bdc175ecde337195ecb3997c8e8d7bf3935755af",
        "id": "TAHYDXN6u1KD",
        "colab": {
          "base_uri": "https://localhost:8080/"
        },
        "outputId": "cef9eba1-84ae-4002-9e6a-e0224ebb211d"
      },
      "cell_type": "code",
      "source": [
        "model.compile('adam', loss = 'categorical_crossentropy', metrics = ['accuracy'])\n",
        "model.fit(x = x_train, y = y_train, batch_size = 128, epochs = 10, validation_data = (x_val, y_val))"
      ],
      "execution_count": null,
      "outputs": [
        {
          "output_type": "stream",
          "name": "stdout",
          "text": [
            "Epoch 1/10\n",
            "113/113 [==============================] - 25s 195ms/step - loss: 0.2966 - accuracy: 0.9044 - val_loss: 0.0028 - val_accuracy: 0.9994\n",
            "Epoch 2/10\n",
            "113/113 [==============================] - 20s 178ms/step - loss: 0.0083 - accuracy: 0.9974 - val_loss: 9.2217e-04 - val_accuracy: 1.0000\n",
            "Epoch 3/10\n",
            "113/113 [==============================] - 20s 181ms/step - loss: 0.0028 - accuracy: 0.9991 - val_loss: 1.5771e-04 - val_accuracy: 1.0000\n",
            "Epoch 4/10\n",
            "113/113 [==============================] - 20s 179ms/step - loss: 0.0037 - accuracy: 0.9990 - val_loss: 5.2543e-05 - val_accuracy: 1.0000\n",
            "Epoch 5/10\n",
            "113/113 [==============================] - 20s 177ms/step - loss: 0.0080 - accuracy: 0.9974 - val_loss: 3.6245e-04 - val_accuracy: 1.0000\n",
            "Epoch 6/10\n",
            "113/113 [==============================] - 20s 177ms/step - loss: 0.0028 - accuracy: 0.9990 - val_loss: 1.0881e-06 - val_accuracy: 1.0000\n",
            "Epoch 7/10\n",
            "113/113 [==============================] - 20s 178ms/step - loss: 8.3059e-05 - accuracy: 1.0000 - val_loss: 7.6684e-08 - val_accuracy: 1.0000\n",
            "Epoch 8/10\n",
            "113/113 [==============================] - 20s 178ms/step - loss: 0.0091 - accuracy: 0.9972 - val_loss: 5.4384e-05 - val_accuracy: 1.0000\n",
            "Epoch 9/10\n",
            "113/113 [==============================] - 20s 177ms/step - loss: 0.0038 - accuracy: 0.9990 - val_loss: 8.7529e-05 - val_accuracy: 1.0000\n",
            "Epoch 10/10\n",
            "113/113 [==============================] - 20s 177ms/step - loss: 0.0025 - accuracy: 0.9994 - val_loss: 1.0305e-04 - val_accuracy: 1.0000\n"
          ]
        },
        {
          "output_type": "execute_result",
          "data": {
            "text/plain": [
              "<keras.callbacks.History at 0x7fc220048790>"
            ]
          },
          "metadata": {},
          "execution_count": 37
        }
      ]
    },
    {
      "metadata": {
        "trusted": true,
        "_uuid": "9f662f5799bf5a425e1e742208b72b4670377404",
        "id": "mrAPEiVHu1KD",
        "colab": {
          "base_uri": "https://localhost:8080/"
        },
        "outputId": "85536cf1-2d87-4067-a1f7-4855c7e61012"
      },
      "cell_type": "code",
      "source": [
        "pred = model.evaluate(xtest,\n",
        "                      ytest,\n",
        "                    batch_size = 128)\n",
        "\n",
        "print(\"Accuracy of model on test data is: \",pred[1]*100)"
      ],
      "execution_count": null,
      "outputs": [
        {
          "output_type": "stream",
          "name": "stdout",
          "text": [
            "29/29 [==============================] - 2s 59ms/step - loss: 5.1867e-04 - accuracy: 0.9997\n",
            "Accuracy of model on test data is:  99.97222423553467\n"
          ]
        }
      ]
    },
    {
      "cell_type": "code",
      "source": [
        "xtest[18].shape"
      ],
      "metadata": {
        "colab": {
          "base_uri": "https://localhost:8080/"
        },
        "id": "ewr7chERbNWQ",
        "outputId": "9de0daa3-1cf8-4c60-8442-7bcd80c7815c"
      },
      "execution_count": null,
      "outputs": [
        {
          "output_type": "execute_result",
          "data": {
            "text/plain": [
              "(128, 128, 1)"
            ]
          },
          "metadata": {},
          "execution_count": 39
        }
      ]
    },
    {
      "cell_type": "code",
      "source": [
        "os.mkdir('teste')\n",
        "!cp /content/drive/MyDrive/igor/foto3/maos/* /content/teste"
      ],
      "metadata": {
        "id": "11lGbBUCZQ2u"
      },
      "execution_count": null,
      "outputs": []
    },
    {
      "cell_type": "code",
      "source": [
        "img = cv2.imread(\"/content/teste/mao_esq4.png\")\n",
        "plt.hist (img.ravel(), bins = 256,  fc = 'k', ec = 'k') #calculando histograma"
      ],
      "metadata": {
        "colab": {
          "base_uri": "https://localhost:8080/",
          "height": 1000
        },
        "id": "b1RMhrRzt6J1",
        "outputId": "e542dba9-eaf1-4056-fa1e-343627e0e3cb"
      },
      "execution_count": null,
      "outputs": [
        {
          "output_type": "execute_result",
          "data": {
            "text/plain": [
              "(array([1.000e+00, 4.000e+00, 5.000e+00, 0.000e+00, 2.000e+00, 1.000e+00,\n",
              "        0.000e+00, 0.000e+00, 0.000e+00, 0.000e+00, 0.000e+00, 4.000e+00,\n",
              "        5.000e+00, 4.000e+00, 0.000e+00, 8.000e+00, 8.000e+00, 8.000e+00,\n",
              "        0.000e+00, 1.900e+01, 2.400e+01, 0.000e+00, 2.400e+01, 3.700e+01,\n",
              "        4.000e+01, 0.000e+00, 1.500e+01, 4.300e+01, 5.100e+01, 0.000e+00,\n",
              "        6.400e+01, 1.020e+02, 0.000e+00, 1.110e+02, 1.410e+02, 2.060e+02,\n",
              "        0.000e+00, 2.750e+02, 3.070e+02, 3.710e+02, 0.000e+00, 4.340e+02,\n",
              "        4.070e+02, 0.000e+00, 5.010e+02, 6.190e+02, 6.830e+02, 0.000e+00,\n",
              "        3.660e+02, 7.140e+02, 8.220e+02, 0.000e+00, 8.110e+02, 8.440e+02,\n",
              "        0.000e+00, 8.420e+02, 9.310e+02, 9.880e+02, 0.000e+00, 1.001e+03,\n",
              "        1.164e+03, 1.338e+03, 0.000e+00, 1.268e+03, 1.208e+03, 0.000e+00,\n",
              "        1.122e+03, 1.153e+03, 1.025e+03, 0.000e+00, 9.650e+02, 8.410e+02,\n",
              "        7.980e+02, 0.000e+00, 6.610e+02, 5.960e+02, 0.000e+00, 5.000e+02,\n",
              "        5.060e+02, 3.920e+02, 0.000e+00, 3.690e+02, 3.450e+02, 3.330e+02,\n",
              "        0.000e+00, 3.380e+02, 2.590e+02, 0.000e+00, 2.870e+02, 2.480e+02,\n",
              "        2.660e+02, 0.000e+00, 2.290e+02, 1.890e+02, 2.090e+02, 0.000e+00,\n",
              "        2.190e+02, 2.320e+02, 0.000e+00, 2.150e+02, 1.950e+02, 2.470e+02,\n",
              "        0.000e+00, 2.250e+02, 2.750e+02, 2.500e+02, 0.000e+00, 2.610e+02,\n",
              "        2.240e+02, 0.000e+00, 2.210e+02, 2.550e+02, 2.690e+02, 0.000e+00,\n",
              "        2.440e+02, 1.750e+02, 1.790e+02, 0.000e+00, 2.030e+02, 2.010e+02,\n",
              "        0.000e+00, 2.020e+02, 2.160e+02, 2.090e+02, 0.000e+00, 1.990e+02,\n",
              "        1.960e+02, 0.000e+00, 1.850e+02, 1.890e+02, 1.850e+02, 0.000e+00,\n",
              "        1.750e+02, 2.100e+02, 1.840e+02, 0.000e+00, 1.720e+02, 1.570e+02,\n",
              "        0.000e+00, 1.670e+02, 1.670e+02, 1.990e+02, 0.000e+00, 1.870e+02,\n",
              "        2.140e+02, 2.210e+02, 0.000e+00, 1.930e+02, 1.930e+02, 0.000e+00,\n",
              "        1.790e+02, 1.300e+02, 1.480e+02, 0.000e+00, 1.510e+02, 1.100e+02,\n",
              "        1.410e+02, 0.000e+00, 1.240e+02, 1.370e+02, 0.000e+00, 1.220e+02,\n",
              "        9.700e+01, 9.800e+01, 0.000e+00, 1.040e+02, 9.400e+01, 8.100e+01,\n",
              "        0.000e+00, 8.500e+01, 1.220e+02, 0.000e+00, 6.300e+01, 1.200e+02,\n",
              "        1.030e+02, 0.000e+00, 1.010e+02, 6.000e+01, 4.500e+01, 0.000e+00,\n",
              "        5.900e+01, 5.100e+01, 0.000e+00, 4.200e+01, 3.600e+01, 3.900e+01,\n",
              "        0.000e+00, 3.900e+01, 3.700e+01, 4.800e+01, 0.000e+00, 6.500e+01,\n",
              "        7.000e+01, 0.000e+00, 4.300e+01, 3.000e+01, 3.500e+01, 0.000e+00,\n",
              "        4.500e+01, 3.800e+01, 4.000e+01, 0.000e+00, 3.600e+01, 5.500e+01,\n",
              "        0.000e+00, 4.500e+01, 3.800e+01, 4.800e+01, 0.000e+00, 2.900e+01,\n",
              "        3.600e+01, 3.300e+01, 0.000e+00, 4.100e+01, 3.900e+01, 0.000e+00,\n",
              "        3.200e+01, 4.800e+01, 3.700e+01, 0.000e+00, 3.500e+01, 4.000e+01,\n",
              "        5.400e+01, 0.000e+00, 4.700e+01, 6.000e+01, 0.000e+00, 8.600e+01,\n",
              "        1.130e+02, 9.200e+01, 0.000e+00, 9.300e+01, 9.000e+01, 2.860e+02,\n",
              "        0.000e+00, 5.030e+02, 4.370e+02, 0.000e+00, 4.230e+02, 2.140e+02,\n",
              "        9.400e+01, 0.000e+00, 1.030e+02, 7.800e+01, 5.000e+01, 0.000e+00,\n",
              "        3.400e+01, 2.700e+01, 0.000e+00, 1.400e+01, 7.000e+00, 2.000e+00,\n",
              "        0.000e+00, 2.000e+00, 3.000e+00, 2.000e+00]),\n",
              " array([ 53.       ,  53.7265625,  54.453125 ,  55.1796875,  55.90625  ,\n",
              "         56.6328125,  57.359375 ,  58.0859375,  58.8125   ,  59.5390625,\n",
              "         60.265625 ,  60.9921875,  61.71875  ,  62.4453125,  63.171875 ,\n",
              "         63.8984375,  64.625    ,  65.3515625,  66.078125 ,  66.8046875,\n",
              "         67.53125  ,  68.2578125,  68.984375 ,  69.7109375,  70.4375   ,\n",
              "         71.1640625,  71.890625 ,  72.6171875,  73.34375  ,  74.0703125,\n",
              "         74.796875 ,  75.5234375,  76.25     ,  76.9765625,  77.703125 ,\n",
              "         78.4296875,  79.15625  ,  79.8828125,  80.609375 ,  81.3359375,\n",
              "         82.0625   ,  82.7890625,  83.515625 ,  84.2421875,  84.96875  ,\n",
              "         85.6953125,  86.421875 ,  87.1484375,  87.875    ,  88.6015625,\n",
              "         89.328125 ,  90.0546875,  90.78125  ,  91.5078125,  92.234375 ,\n",
              "         92.9609375,  93.6875   ,  94.4140625,  95.140625 ,  95.8671875,\n",
              "         96.59375  ,  97.3203125,  98.046875 ,  98.7734375,  99.5      ,\n",
              "        100.2265625, 100.953125 , 101.6796875, 102.40625  , 103.1328125,\n",
              "        103.859375 , 104.5859375, 105.3125   , 106.0390625, 106.765625 ,\n",
              "        107.4921875, 108.21875  , 108.9453125, 109.671875 , 110.3984375,\n",
              "        111.125    , 111.8515625, 112.578125 , 113.3046875, 114.03125  ,\n",
              "        114.7578125, 115.484375 , 116.2109375, 116.9375   , 117.6640625,\n",
              "        118.390625 , 119.1171875, 119.84375  , 120.5703125, 121.296875 ,\n",
              "        122.0234375, 122.75     , 123.4765625, 124.203125 , 124.9296875,\n",
              "        125.65625  , 126.3828125, 127.109375 , 127.8359375, 128.5625   ,\n",
              "        129.2890625, 130.015625 , 130.7421875, 131.46875  , 132.1953125,\n",
              "        132.921875 , 133.6484375, 134.375    , 135.1015625, 135.828125 ,\n",
              "        136.5546875, 137.28125  , 138.0078125, 138.734375 , 139.4609375,\n",
              "        140.1875   , 140.9140625, 141.640625 , 142.3671875, 143.09375  ,\n",
              "        143.8203125, 144.546875 , 145.2734375, 146.       , 146.7265625,\n",
              "        147.453125 , 148.1796875, 148.90625  , 149.6328125, 150.359375 ,\n",
              "        151.0859375, 151.8125   , 152.5390625, 153.265625 , 153.9921875,\n",
              "        154.71875  , 155.4453125, 156.171875 , 156.8984375, 157.625    ,\n",
              "        158.3515625, 159.078125 , 159.8046875, 160.53125  , 161.2578125,\n",
              "        161.984375 , 162.7109375, 163.4375   , 164.1640625, 164.890625 ,\n",
              "        165.6171875, 166.34375  , 167.0703125, 167.796875 , 168.5234375,\n",
              "        169.25     , 169.9765625, 170.703125 , 171.4296875, 172.15625  ,\n",
              "        172.8828125, 173.609375 , 174.3359375, 175.0625   , 175.7890625,\n",
              "        176.515625 , 177.2421875, 177.96875  , 178.6953125, 179.421875 ,\n",
              "        180.1484375, 180.875    , 181.6015625, 182.328125 , 183.0546875,\n",
              "        183.78125  , 184.5078125, 185.234375 , 185.9609375, 186.6875   ,\n",
              "        187.4140625, 188.140625 , 188.8671875, 189.59375  , 190.3203125,\n",
              "        191.046875 , 191.7734375, 192.5      , 193.2265625, 193.953125 ,\n",
              "        194.6796875, 195.40625  , 196.1328125, 196.859375 , 197.5859375,\n",
              "        198.3125   , 199.0390625, 199.765625 , 200.4921875, 201.21875  ,\n",
              "        201.9453125, 202.671875 , 203.3984375, 204.125    , 204.8515625,\n",
              "        205.578125 , 206.3046875, 207.03125  , 207.7578125, 208.484375 ,\n",
              "        209.2109375, 209.9375   , 210.6640625, 211.390625 , 212.1171875,\n",
              "        212.84375  , 213.5703125, 214.296875 , 215.0234375, 215.75     ,\n",
              "        216.4765625, 217.203125 , 217.9296875, 218.65625  , 219.3828125,\n",
              "        220.109375 , 220.8359375, 221.5625   , 222.2890625, 223.015625 ,\n",
              "        223.7421875, 224.46875  , 225.1953125, 225.921875 , 226.6484375,\n",
              "        227.375    , 228.1015625, 228.828125 , 229.5546875, 230.28125  ,\n",
              "        231.0078125, 231.734375 , 232.4609375, 233.1875   , 233.9140625,\n",
              "        234.640625 , 235.3671875, 236.09375  , 236.8203125, 237.546875 ,\n",
              "        238.2734375, 239.       ]),\n",
              " <a list of 256 Patch objects>)"
            ]
          },
          "metadata": {},
          "execution_count": 65
        },
        {
          "output_type": "display_data",
          "data": {
            "text/plain": [
              "<Figure size 432x288 with 1 Axes>"
            ],
            "image/png": "[encoded data removed]"
          },
          "metadata": {
            "needs_background": "light"
          }
        }
      ]
    },
    {
      "cell_type": "code",
      "source": [
        "imagens = []\n",
        "entradas = []\n",
        "for file in os.listdir(\"/content/teste\"):\n",
        "  # print(file)\n",
        "  img = io.imread('/content/teste/' + file)\n",
        "  # print(img.shape)\n",
        "  # print(img)\n",
        "  img = cv2.cvtColor(img, cv2.COLOR_BGR2GRAY)\n",
        "  # img = img[:,:, 0]\n",
        "  img = cv2.resize(img, (128,128))\n",
        "  # fgbg1 = cv2.bgsegm.createBackgroundSubtractorMOG()\n",
        "  # img = fgbg1.apply(img)\n",
        "  # img = cv2.Canny(img, 30, 200)\n",
        "  # img = cv2.threshold(img, 100, 240, cv2.THRESH_BINARY)[1]\n",
        "  # print(img )\n",
        "  imagens.append(img)\n",
        "  img = img.reshape(1, 128, 128, 1)  \n",
        "  # img = img / 255\n",
        "  entradas.append(img)"
      ],
      "metadata": {
        "id": "y4-3_Q-_khDC"
      },
      "execution_count": null,
      "outputs": []
    },
    {
      "cell_type": "code",
      "source": [
        "b=imagens[10]\n",
        "# print(b)\n",
        "figs, axs = plt.subplots(1,1)\n",
        "plt.imshow(b)\n",
        "\n",
        "#Predição da entrada de teste com índica 18 relativa a mesma imagem que será mostrada\n",
        "teste = imagens[10].reshape(1,128,128,1)\n",
        "# teste = entradas[2]\n",
        "print(labelencoder.classes_)\n",
        "# print(teste.shape)\n",
        "a=model.predict(teste)\n",
        "print(a)\n",
        "#List comprehension para transformar a array de probabilidades em zeros e uns\n",
        "# d=list(a)\n",
        "# print(d)\n",
        "# Pegar o máximo que corresponde à lista encodada\n",
        "e=np.where(a == np.max(a))[1]\n",
        "print(e)\n",
        "# Fazer a transformação inversa do encoder\n",
        "f=labelencoder.inverse_transform(e)\n",
        "f"
      ],
      "metadata": {
        "colab": {
          "base_uri": "https://localhost:8080/",
          "height": 341
        },
        "id": "w3dpmUERad2G",
        "outputId": "c3570edb-23d0-4681-b776-d2fd6c140487"
      },
      "execution_count": null,
      "outputs": [
        {
          "output_type": "stream",
          "name": "stdout",
          "text": [
            "['0L' '0R' '1L' '1R' '2L' '2R' '3L' '3R' '4L' '4R' '5L' '5R']\n",
            "[[0. 0. 1. 0. 0. 0. 0. 0. 0. 0. 0. 0.]]\n",
            "[2]\n"
          ]
        },
        {
          "output_type": "execute_result",
          "data": {
            "text/plain": [
              "array(['1L'], dtype='<U2')"
            ]
          },
          "metadata": {},
          "execution_count": 85
        },
        {
          "output_type": "display_data",
          "data": {
            "text/plain": [
              "<Figure size 432x288 with 1 Axes>"
            ],
            "image/png": "[encoded data removed]"
          },
          "metadata": {
            "needs_background": "light"
          }
        }
      ]
    },
    {
      "cell_type": "code",
      "source": [
        "b=test_data[204]\n",
        "figs, axs = plt.subplots(1,1)\n",
        "plt.imshow(b)\n",
        "\n",
        "#Predição da entrada de teste com índica 204 relativa a mesma imagem que será mostrada\n",
        "print(xtest[2].shape)\n",
        "a=model.predict(xtest[2].reshape(1,128,128,1))\n",
        "print(a)\n",
        "#List comprehension para transformar a array de probabilidades em zeros e uns\n",
        "d=[int(x) for x in a[0]]\n",
        "# Pegar o máximo que corresponde à lista encodada\n",
        "e=[np.array(d.index(max(d)))]\n",
        "# Fazer a transformação inversa do encoder\n",
        "f=labelencoder.inverse_transform(e)\n",
        "f"
      ],
      "metadata": {
        "id": "GzmtHHfG4b7m"
      },
      "execution_count": null,
      "outputs": []
    },
    {
      "cell_type": "code",
      "source": [
        "y_test_val[18]"
      ],
      "metadata": {
        "id": "Eq0KJnHC11TP"
      },
      "execution_count": null,
      "outputs": []
    },
    {
      "cell_type": "code",
      "source": [
        "b"
      ],
      "metadata": {
        "id": "eM_SPW-texyi"
      },
      "execution_count": null,
      "outputs": []
    },
    {
      "cell_type": "code",
      "source": [
        "d=list(c[0])"
      ],
      "metadata": {
        "id": "o2waF3iWiMlH"
      },
      "execution_count": null,
      "outputs": []
    },
    {
      "cell_type": "code",
      "source": [
        "y_test[18]"
      ],
      "metadata": {
        "id": "b3MdSs9_HEyU"
      },
      "execution_count": null,
      "outputs": []
    },
    {
      "cell_type": "code",
      "source": [
        "c=model.predict(a)\n",
        "d=[int(x) for x in c[0]]\n",
        "d"
      ],
      "metadata": {
        "id": "P6mPr4czavyQ"
      },
      "execution_count": null,
      "outputs": []
    },
    {
      "cell_type": "code",
      "source": [
        "e=np.array(d.index(max(d)))"
      ],
      "metadata": {
        "id": "SzRCzlyGkTfh"
      },
      "execution_count": null,
      "outputs": []
    },
    {
      "cell_type": "code",
      "source": [
        "e=[d.index(max(d))]\n",
        "e"
      ],
      "metadata": {
        "id": "qJHN5Vx8hOjA"
      },
      "execution_count": null,
      "outputs": []
    },
    {
      "cell_type": "code",
      "source": [
        "labelencoder.inverse_transform(e)"
      ],
      "metadata": {
        "id": "ynuFE858jAWe"
      },
      "execution_count": null,
      "outputs": []
    },
    {
      "cell_type": "code",
      "source": [
        ""
      ],
      "metadata": {
        "id": "2RdmXuXQfXPa"
      },
      "execution_count": null,
      "outputs": []
    },
    {
      "metadata": {
        "trusted": true,
        "_uuid": "040a5473bfaf65367df4b981274be916bbc2d32a",
        "id": "cZ6d_CYWu1KE"
      },
      "cell_type": "code",
      "source": [
        "from matplotlib import pyplot as plt\n",
        "figs, axs = plt.subplots(3, 2)\n",
        "\n",
        "count = 0\n",
        "images = [] \n",
        "for file in dir_test:\n",
        "  if count == 6:\n",
        "    break\n",
        "  images.append(cv2.imread(\"./fingers/test/\"+file, cv2.IMREAD_UNCHANGED))\n",
        "  count += 1\n",
        "\n",
        "for i in range(3):\n",
        "  for j in range(2):\n",
        "    axs[i, j].plot(images[i+j])\n",
        "    axs[0, 0].set_title('Axis [0, 0]')\n",
        "\n",
        "for ax in axs.flat:\n",
        "  print(ax)\n",
        "\n",
        "#   plt.imshow(img)\n",
        "#   plt.show()\n",
        "#   count += 1\n"
      ],
      "execution_count": null,
      "outputs": []
    },
    {
      "cell_type": "code",
      "source": [
        " \n",
        "x = np.arange(0.0, 2.0, 0.01)\n",
        "y = 1 + np.sin(2 * np.pi * x)\n",
        " \n",
        "fig, ((ax1, ax2), (ax3, ax4), (ax5, ax6)) = plt.subplots(3, 2)\n",
        "ax1.plot(x, y, color=\"orange\")\n",
        "ax2.plot(x, y, color=\"green\")\n",
        "ax3.plot(x, y, color=\"blue\")\n",
        "ax4.plot(x, y, color=\"magenta\")\n",
        "ax5.plot(x, y, color=\"black\")\n",
        "ax6.plot(x, y, color=\"red\")"
      ],
      "metadata": {
        "id": "LqN3r5scYKVV"
      },
      "execution_count": null,
      "outputs": []
    }
  ],
  "metadata": {
    "kernelspec": {
      "display_name": "Python 3",
      "language": "python",
      "name": "python3"
    },
    "colab": {
      "name": "fingers-cnn-keras.ipynb",
      "provenance": [],
      "collapsed_sections": [],
      "machine_shape": "hm"
    },
    "accelerator": "GPU"
  },
  "nbformat": 4,
  "nbformat_minor": 0
}